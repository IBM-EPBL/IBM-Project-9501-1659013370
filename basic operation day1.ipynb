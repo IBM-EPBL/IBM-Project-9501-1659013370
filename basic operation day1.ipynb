{
 "cells": [
  {
   "cell_type": "markdown",
   "id": "5de91c93",
   "metadata": {},
   "source": [
    " ## *PRINT*"
   ]
  },
  {
   "cell_type": "code",
   "execution_count": 4,
   "id": "de49333c",
   "metadata": {},
   "outputs": [
    {
     "name": "stdout",
     "output_type": "stream",
     "text": [
      "Hello World\n"
     ]
    }
   ],
   "source": [
    "print(\"Hello World\")"
   ]
  },
  {
   "cell_type": "code",
   "execution_count": 5,
   "id": "351bb6dc",
   "metadata": {},
   "outputs": [
    {
     "name": "stdout",
     "output_type": "stream",
     "text": [
      "SANJANA\n"
     ]
    }
   ],
   "source": [
    "print('SANJANA')"
   ]
  },
  {
   "cell_type": "code",
   "execution_count": 6,
   "id": "5fa4782c",
   "metadata": {},
   "outputs": [
    {
     "name": "stdout",
     "output_type": "stream",
     "text": [
      "sanjana bharathi jovic\n"
     ]
    }
   ],
   "source": [
    "print('sanjana','bharathi','jovic')"
   ]
  },
  {
   "cell_type": "code",
   "execution_count": 9,
   "id": "d3043af3",
   "metadata": {},
   "outputs": [
    {
     "name": "stdout",
     "output_type": "stream",
     "text": [
      "sanjana <3 bharathi <3 jovic\n"
     ]
    }
   ],
   "source": [
    "print('sanjana','bharathi','jovic',sep=' <3 ')"
   ]
  },
  {
   "cell_type": "code",
   "execution_count": 11,
   "id": "d3993d66",
   "metadata": {},
   "outputs": [
    {
     "name": "stdout",
     "output_type": "stream",
     "text": [
      " SANJ SANJ SANJ SANJ SANJ\n"
     ]
    }
   ],
   "source": [
    "print(5*' SANJ')"
   ]
  },
  {
   "cell_type": "markdown",
   "id": "96884786",
   "metadata": {},
   "source": [
    "# *VARIABLE*"
   ]
  },
  {
   "cell_type": "code",
   "execution_count": 12,
   "id": "c3532425",
   "metadata": {},
   "outputs": [],
   "source": [
    "x=29"
   ]
  },
  {
   "cell_type": "code",
   "execution_count": 13,
   "id": "bf606b2a",
   "metadata": {},
   "outputs": [
    {
     "data": {
      "text/plain": [
       "29"
      ]
     },
     "execution_count": 13,
     "metadata": {},
     "output_type": "execute_result"
    }
   ],
   "source": [
    "x"
   ]
  },
  {
   "cell_type": "code",
   "execution_count": 14,
   "id": "5abe4ec1",
   "metadata": {},
   "outputs": [],
   "source": [
    "y=x+40"
   ]
  },
  {
   "cell_type": "code",
   "execution_count": 15,
   "id": "edc5b62a",
   "metadata": {},
   "outputs": [
    {
     "data": {
      "text/plain": [
       "69"
      ]
     },
     "execution_count": 15,
     "metadata": {},
     "output_type": "execute_result"
    }
   ],
   "source": [
    "y"
   ]
  },
  {
   "cell_type": "code",
   "execution_count": 16,
   "id": "375939c5",
   "metadata": {},
   "outputs": [],
   "source": [
    "a=45"
   ]
  },
  {
   "cell_type": "code",
   "execution_count": 17,
   "id": "b11e797a",
   "metadata": {},
   "outputs": [],
   "source": [
    "b=69"
   ]
  },
  {
   "cell_type": "code",
   "execution_count": 18,
   "id": "34288867",
   "metadata": {},
   "outputs": [],
   "source": [
    "x=a-b"
   ]
  },
  {
   "cell_type": "code",
   "execution_count": 19,
   "id": "4d9131a8",
   "metadata": {},
   "outputs": [
    {
     "data": {
      "text/plain": [
       "-24"
      ]
     },
     "execution_count": 19,
     "metadata": {},
     "output_type": "execute_result"
    }
   ],
   "source": [
    "x"
   ]
  },
  {
   "cell_type": "code",
   "execution_count": 20,
   "id": "4352727e",
   "metadata": {},
   "outputs": [],
   "source": [
    "y=a*b"
   ]
  },
  {
   "cell_type": "code",
   "execution_count": 21,
   "id": "57cf0c71",
   "metadata": {},
   "outputs": [
    {
     "data": {
      "text/plain": [
       "3105"
      ]
     },
     "execution_count": 21,
     "metadata": {},
     "output_type": "execute_result"
    }
   ],
   "source": [
    "y"
   ]
  },
  {
   "cell_type": "code",
   "execution_count": 22,
   "id": "7ac7f201",
   "metadata": {},
   "outputs": [],
   "source": [
    "del y"
   ]
  },
  {
   "cell_type": "code",
   "execution_count": 23,
   "id": "9320d25b",
   "metadata": {},
   "outputs": [
    {
     "ename": "NameError",
     "evalue": "name 'y' is not defined",
     "output_type": "error",
     "traceback": [
      "\u001b[1;31m---------------------------------------------------------------------------\u001b[0m",
      "\u001b[1;31mNameError\u001b[0m                                 Traceback (most recent call last)",
      "Input \u001b[1;32mIn [23]\u001b[0m, in \u001b[0;36m<cell line: 1>\u001b[1;34m()\u001b[0m\n\u001b[1;32m----> 1\u001b[0m \u001b[43my\u001b[49m\n",
      "\u001b[1;31mNameError\u001b[0m: name 'y' is not defined"
     ]
    }
   ],
   "source": [
    "y"
   ]
  },
  {
   "cell_type": "markdown",
   "id": "573365d8",
   "metadata": {},
   "source": [
    "# *OPERTOR*"
   ]
  },
  {
   "cell_type": "code",
   "execution_count": 30,
   "id": "709a34c8",
   "metadata": {},
   "outputs": [
    {
     "name": "stdout",
     "output_type": "stream",
     "text": [
      "120\n",
      "-62\n",
      "2639\n",
      "0.31868131868131866\n",
      "29\n",
      "0\n",
      "11973408751073745109871207933896448799160736265937729920190257956164000789353204513267864652181284614612825614288977421350175901112229\n"
     ]
    }
   ],
   "source": [
    "a=29\n",
    "b=91\n",
    "\n",
    "print(a+b)\n",
    "\n",
    "print(a-b)\n",
    "\n",
    "print(a*b)\n",
    "\n",
    "print(a/b)\n",
    "\n",
    "print(a%b)\n",
    "\n",
    "print(a//b)\n",
    "\n",
    "print(a**b)"
   ]
  },
  {
   "cell_type": "markdown",
   "id": "8a37cdaf",
   "metadata": {},
   "source": [
    "# *RELATION OPERATOR*"
   ]
  },
  {
   "cell_type": "code",
   "execution_count": 31,
   "id": "c748b5a3",
   "metadata": {},
   "outputs": [
    {
     "name": "stdout",
     "output_type": "stream",
     "text": [
      "False\n",
      "True\n",
      "True\n",
      "False\n"
     ]
    }
   ],
   "source": [
    "print(a>b)\n",
    "print(a<b)\n",
    "print(a!=b)\n",
    "print(a==b)"
   ]
  },
  {
   "cell_type": "markdown",
   "id": "0eefa497",
   "metadata": {},
   "source": [
    "# *LIST*"
   ]
  },
  {
   "cell_type": "code",
   "execution_count": 32,
   "id": "20aa0bc4",
   "metadata": {},
   "outputs": [],
   "source": [
    "list=['salt','globe jamun','ice','shitbrain','urutu','1','2']"
   ]
  },
  {
   "cell_type": "code",
   "execution_count": 33,
   "id": "7555646b",
   "metadata": {},
   "outputs": [
    {
     "name": "stdout",
     "output_type": "stream",
     "text": [
      "['salt', 'globe jamun', 'ice', 'shitbrain', 'urutu', '1', '2']\n"
     ]
    }
   ],
   "source": [
    "print(list)"
   ]
  },
  {
   "cell_type": "code",
   "execution_count": 34,
   "id": "fec4d94f",
   "metadata": {},
   "outputs": [
    {
     "data": {
      "text/plain": [
       "['salt', 'globe jamun', 'ice', 'shitbrain', 'urutu', '1', '2']"
      ]
     },
     "execution_count": 34,
     "metadata": {},
     "output_type": "execute_result"
    }
   ],
   "source": [
    "list"
   ]
  },
  {
   "cell_type": "code",
   "execution_count": 35,
   "id": "ce731311",
   "metadata": {},
   "outputs": [
    {
     "data": {
      "text/plain": [
       "7"
      ]
     },
     "execution_count": 35,
     "metadata": {},
     "output_type": "execute_result"
    }
   ],
   "source": [
    "len(list)"
   ]
  },
  {
   "cell_type": "code",
   "execution_count": 36,
   "id": "252bf2d2",
   "metadata": {},
   "outputs": [
    {
     "ename": "NameError",
     "evalue": "name 'san' is not defined",
     "output_type": "error",
     "traceback": [
      "\u001b[1;31m---------------------------------------------------------------------------\u001b[0m",
      "\u001b[1;31mNameError\u001b[0m                                 Traceback (most recent call last)",
      "Input \u001b[1;32mIn [36]\u001b[0m, in \u001b[0;36m<cell line: 1>\u001b[1;34m()\u001b[0m\n\u001b[1;32m----> 1\u001b[0m \u001b[38;5;28mlist\u001b[39m[\u001b[38;5;241m0\u001b[39m]\u001b[38;5;241m=\u001b[39m\u001b[43msan\u001b[49m\n",
      "\u001b[1;31mNameError\u001b[0m: name 'san' is not defined"
     ]
    }
   ],
   "source": [
    "list[0]=san"
   ]
  },
  {
   "cell_type": "code",
   "execution_count": 37,
   "id": "dc7c40fb",
   "metadata": {},
   "outputs": [
    {
     "ename": "NameError",
     "evalue": "name 'san' is not defined",
     "output_type": "error",
     "traceback": [
      "\u001b[1;31m---------------------------------------------------------------------------\u001b[0m",
      "\u001b[1;31mNameError\u001b[0m                                 Traceback (most recent call last)",
      "Input \u001b[1;32mIn [37]\u001b[0m, in \u001b[0;36m<cell line: 1>\u001b[1;34m()\u001b[0m\n\u001b[1;32m----> 1\u001b[0m \u001b[38;5;28mlist\u001b[39m[\u001b[38;5;241m0\u001b[39m]\u001b[38;5;241m=\u001b[39m\u001b[43msan\u001b[49m\n\u001b[0;32m      2\u001b[0m \u001b[38;5;28mlist\u001b[39m\n",
      "\u001b[1;31mNameError\u001b[0m: name 'san' is not defined"
     ]
    }
   ],
   "source": [
    "list[0]=san\n",
    "list"
   ]
  },
  {
   "cell_type": "code",
   "execution_count": 38,
   "id": "f7869868",
   "metadata": {},
   "outputs": [
    {
     "data": {
      "text/plain": [
       "'salt'"
      ]
     },
     "execution_count": 38,
     "metadata": {},
     "output_type": "execute_result"
    }
   ],
   "source": [
    "list[0]"
   ]
  },
  {
   "cell_type": "code",
   "execution_count": 39,
   "id": "ee20274e",
   "metadata": {},
   "outputs": [],
   "source": [
    "list[0]='san'"
   ]
  },
  {
   "cell_type": "code",
   "execution_count": 40,
   "id": "1eef95f5",
   "metadata": {},
   "outputs": [
    {
     "data": {
      "text/plain": [
       "['san', 'globe jamun', 'ice', 'shitbrain', 'urutu', '1', '2']"
      ]
     },
     "execution_count": 40,
     "metadata": {},
     "output_type": "execute_result"
    }
   ],
   "source": [
    "list"
   ]
  },
  {
   "cell_type": "markdown",
   "id": "f763f35e",
   "metadata": {},
   "source": [
    "# *TUPLE*"
   ]
  },
  {
   "cell_type": "code",
   "execution_count": 41,
   "id": "0d06b9ae",
   "metadata": {},
   "outputs": [],
   "source": [
    "tuple=('san','star','291')"
   ]
  },
  {
   "cell_type": "code",
   "execution_count": 42,
   "id": "f55c917c",
   "metadata": {},
   "outputs": [
    {
     "data": {
      "text/plain": [
       "('san', 'star', '291')"
      ]
     },
     "execution_count": 42,
     "metadata": {},
     "output_type": "execute_result"
    }
   ],
   "source": [
    "tuple"
   ]
  },
  {
   "cell_type": "code",
   "execution_count": 43,
   "id": "4c587056",
   "metadata": {},
   "outputs": [
    {
     "name": "stdout",
     "output_type": "stream",
     "text": [
      "star\n"
     ]
    }
   ],
   "source": [
    "print(tuple[1])"
   ]
  },
  {
   "cell_type": "code",
   "execution_count": 44,
   "id": "bdb7b981",
   "metadata": {},
   "outputs": [
    {
     "name": "stdout",
     "output_type": "stream",
     "text": [
      "('star', '291')\n"
     ]
    }
   ],
   "source": [
    "print(tuple[1:])"
   ]
  },
  {
   "cell_type": "code",
   "execution_count": 45,
   "id": "da8028b6",
   "metadata": {},
   "outputs": [
    {
     "name": "stdout",
     "output_type": "stream",
     "text": [
      "('star',)\n"
     ]
    }
   ],
   "source": [
    "print(tuple[1:2])"
   ]
  },
  {
   "cell_type": "code",
   "execution_count": 46,
   "id": "294905a8",
   "metadata": {},
   "outputs": [
    {
     "name": "stdout",
     "output_type": "stream",
     "text": [
      "('san', 'star')\n"
     ]
    }
   ],
   "source": [
    "print(tuple[:2])"
   ]
  },
  {
   "cell_type": "code",
   "execution_count": 47,
   "id": "f6e8a08e",
   "metadata": {},
   "outputs": [
    {
     "ename": "TypeError",
     "evalue": "'tuple' object doesn't support item deletion",
     "output_type": "error",
     "traceback": [
      "\u001b[1;31m---------------------------------------------------------------------------\u001b[0m",
      "\u001b[1;31mTypeError\u001b[0m                                 Traceback (most recent call last)",
      "Input \u001b[1;32mIn [47]\u001b[0m, in \u001b[0;36m<cell line: 1>\u001b[1;34m()\u001b[0m\n\u001b[1;32m----> 1\u001b[0m \u001b[38;5;28;01mdel\u001b[39;00m \u001b[38;5;28mtuple\u001b[39m[\u001b[38;5;241m0\u001b[39m]\n",
      "\u001b[1;31mTypeError\u001b[0m: 'tuple' object doesn't support item deletion"
     ]
    }
   ],
   "source": [
    "del tuple[0]"
   ]
  },
  {
   "cell_type": "code",
   "execution_count": 48,
   "id": "3423fa73",
   "metadata": {},
   "outputs": [],
   "source": [
    "del tuple"
   ]
  },
  {
   "cell_type": "code",
   "execution_count": 49,
   "id": "df9d15d5",
   "metadata": {},
   "outputs": [
    {
     "data": {
      "text/plain": [
       "tuple"
      ]
     },
     "execution_count": 49,
     "metadata": {},
     "output_type": "execute_result"
    }
   ],
   "source": [
    "tuple"
   ]
  },
  {
   "cell_type": "code",
   "execution_count": 50,
   "id": "7c40cb62",
   "metadata": {},
   "outputs": [
    {
     "name": "stdout",
     "output_type": "stream",
     "text": [
      "<class 'tuple'>\n"
     ]
    }
   ],
   "source": [
    "print(tuple)"
   ]
  },
  {
   "cell_type": "code",
   "execution_count": 51,
   "id": "d2ed2b5d",
   "metadata": {},
   "outputs": [
    {
     "data": {
      "text/plain": [
       "tuple"
      ]
     },
     "execution_count": 51,
     "metadata": {},
     "output_type": "execute_result"
    }
   ],
   "source": [
    "tuple"
   ]
  },
  {
   "cell_type": "markdown",
   "id": "3e79c261",
   "metadata": {},
   "source": [
    "# *SET*"
   ]
  },
  {
   "cell_type": "code",
   "execution_count": 52,
   "id": "44806fe1",
   "metadata": {},
   "outputs": [
    {
     "data": {
      "text/plain": [
       "{21, 23, 29, 55, 69, 71, 77}"
      ]
     },
     "execution_count": 52,
     "metadata": {},
     "output_type": "execute_result"
    }
   ],
   "source": [
    "a={29,21,69,71,23,55,77}\n",
    "a"
   ]
  },
  {
   "cell_type": "code",
   "execution_count": 53,
   "id": "bc7e01d9",
   "metadata": {},
   "outputs": [],
   "source": [
    "a.add(10)"
   ]
  },
  {
   "cell_type": "code",
   "execution_count": 54,
   "id": "b109730f",
   "metadata": {},
   "outputs": [
    {
     "data": {
      "text/plain": [
       "{10, 21, 23, 29, 55, 69, 71, 77}"
      ]
     },
     "execution_count": 54,
     "metadata": {},
     "output_type": "execute_result"
    }
   ],
   "source": [
    "a"
   ]
  },
  {
   "cell_type": "code",
   "execution_count": 55,
   "id": "524ba8f8",
   "metadata": {},
   "outputs": [
    {
     "ename": "AttributeError",
     "evalue": "'set' object has no attribute 'sub'",
     "output_type": "error",
     "traceback": [
      "\u001b[1;31m---------------------------------------------------------------------------\u001b[0m",
      "\u001b[1;31mAttributeError\u001b[0m                            Traceback (most recent call last)",
      "Input \u001b[1;32mIn [55]\u001b[0m, in \u001b[0;36m<cell line: 1>\u001b[1;34m()\u001b[0m\n\u001b[1;32m----> 1\u001b[0m \u001b[43ma\u001b[49m\u001b[38;5;241;43m.\u001b[39;49m\u001b[43msub\u001b[49m(\u001b[38;5;241m10\u001b[39m)\n\u001b[0;32m      2\u001b[0m a\n",
      "\u001b[1;31mAttributeError\u001b[0m: 'set' object has no attribute 'sub'"
     ]
    }
   ],
   "source": [
    "a.sub(10)\n",
    "a"
   ]
  },
  {
   "cell_type": "code",
   "execution_count": 56,
   "id": "3cb89fd9",
   "metadata": {},
   "outputs": [
    {
     "ename": "SyntaxError",
     "evalue": "invalid syntax (3187045601.py, line 1)",
     "output_type": "error",
     "traceback": [
      "\u001b[1;36m  Input \u001b[1;32mIn [56]\u001b[1;36m\u001b[0m\n\u001b[1;33m    a.del(10)\u001b[0m\n\u001b[1;37m      ^\u001b[0m\n\u001b[1;31mSyntaxError\u001b[0m\u001b[1;31m:\u001b[0m invalid syntax\n"
     ]
    }
   ],
   "source": [
    "a.del(10)"
   ]
  },
  {
   "cell_type": "markdown",
   "id": "7dc0ac8a",
   "metadata": {},
   "source": [
    "# *DICTIONARY in python*"
   ]
  },
  {
   "cell_type": "code",
   "execution_count": 57,
   "id": "c15ff4a2",
   "metadata": {},
   "outputs": [
    {
     "data": {
      "text/plain": [
       "{'name': 'sanju', 'age': 21, 'height': 168}"
      ]
     },
     "execution_count": 57,
     "metadata": {},
     "output_type": "execute_result"
    }
   ],
   "source": [
    "d={'name':'sanju','age':21,'height':168}\n",
    "d"
   ]
  },
  {
   "cell_type": "code",
   "execution_count": 58,
   "id": "8608b41a",
   "metadata": {},
   "outputs": [
    {
     "ename": "SyntaxError",
     "evalue": "invalid syntax (3121219589.py, line 1)",
     "output_type": "error",
     "traceback": [
      "\u001b[1;36m  Input \u001b[1;32mIn [58]\u001b[1;36m\u001b[0m\n\u001b[1;33m    d{'age'}\u001b[0m\n\u001b[1;37m     ^\u001b[0m\n\u001b[1;31mSyntaxError\u001b[0m\u001b[1;31m:\u001b[0m invalid syntax\n"
     ]
    }
   ],
   "source": [
    "d{'age'}"
   ]
  },
  {
   "cell_type": "code",
   "execution_count": 59,
   "id": "9cb3f1c6",
   "metadata": {},
   "outputs": [
    {
     "data": {
      "text/plain": [
       "21"
      ]
     },
     "execution_count": 59,
     "metadata": {},
     "output_type": "execute_result"
    }
   ],
   "source": [
    "d['age']"
   ]
  },
  {
   "cell_type": "code",
   "execution_count": 60,
   "id": "1dae4031",
   "metadata": {},
   "outputs": [
    {
     "data": {
      "text/plain": [
       "{'name': 'sanju', 'age': 20, 'height': 168}"
      ]
     },
     "execution_count": 60,
     "metadata": {},
     "output_type": "execute_result"
    }
   ],
   "source": [
    "d['age']=20\n",
    "d"
   ]
  },
  {
   "cell_type": "code",
   "execution_count": 61,
   "id": "82fd46c1",
   "metadata": {},
   "outputs": [
    {
     "data": {
      "text/plain": [
       "dict_items([('name', 'sanju'), ('age', 20), ('height', 168)])"
      ]
     },
     "execution_count": 61,
     "metadata": {},
     "output_type": "execute_result"
    }
   ],
   "source": [
    "d.items()"
   ]
  },
  {
   "cell_type": "code",
   "execution_count": 62,
   "id": "a367c6df",
   "metadata": {},
   "outputs": [
    {
     "data": {
      "text/plain": [
       "dict_keys(['name', 'age', 'height'])"
      ]
     },
     "execution_count": 62,
     "metadata": {},
     "output_type": "execute_result"
    }
   ],
   "source": [
    "d.keys()"
   ]
  },
  {
   "cell_type": "code",
   "execution_count": 63,
   "id": "156ffaf1",
   "metadata": {},
   "outputs": [
    {
     "data": {
      "text/plain": [
       "dict_values(['sanju', 20, 168])"
      ]
     },
     "execution_count": 63,
     "metadata": {},
     "output_type": "execute_result"
    }
   ],
   "source": [
    "d.values()"
   ]
  },
  {
   "cell_type": "markdown",
   "id": "42115288",
   "metadata": {},
   "source": [
    "# *STATEMENT*"
   ]
  },
  {
   "cell_type": "code",
   "execution_count": 79,
   "id": "3ae152c9",
   "metadata": {},
   "outputs": [
    {
     "name": "stdout",
     "output_type": "stream",
     "text": [
      "enter a number24\n"
     ]
    }
   ],
   "source": [
    "x=int(input('enter a number')) #if\n",
    "if x==0:\n",
    "    print('the number is zero')"
   ]
  },
  {
   "cell_type": "code",
   "execution_count": 80,
   "id": "33eb44cf",
   "metadata": {},
   "outputs": [
    {
     "name": "stdout",
     "output_type": "stream",
     "text": [
      "enter a number45\n",
      "the number is not zero\n"
     ]
    }
   ],
   "source": [
    "x=int(input('enter a number')) #ifelse\n",
    "if x==0:\n",
    "    print('the number is zero')\n",
    "else:\n",
    "    print('the number is not zero')"
   ]
  },
  {
   "cell_type": "code",
   "execution_count": 81,
   "id": "0b9c17fa",
   "metadata": {},
   "outputs": [
    {
     "name": "stdout",
     "output_type": "stream",
     "text": [
      "enter a number0\n",
      "the number is zero\n"
     ]
    }
   ],
   "source": [
    "x=int(input('enter a number')) #ifelse\n",
    "if x==0:\n",
    "    print('the number is zero')\n",
    "else:\n",
    "    print('the number is not zero')"
   ]
  },
  {
   "cell_type": "code",
   "execution_count": 87,
   "id": "b82ee7ac",
   "metadata": {},
   "outputs": [
    {
     "name": "stdout",
     "output_type": "stream",
     "text": [
      "enter the number x55\n",
      "enter the number y79\n",
      "x is less than y\n"
     ]
    }
   ],
   "source": [
    "#elif\n",
    "x=int(input('enter the number x'))\n",
    "y=int(input('enter the number y'))\n",
    "if x<y:\n",
    "    print('x is less than y')\n",
    "elif x==y:\n",
    "    print('x is equal to y')\n",
    "elif x>y:\n",
    "    print('x is greater than y')\n",
    "else:\n",
    "    print('x is not equal to y')"
   ]
  },
  {
   "cell_type": "markdown",
   "id": "92280cd0",
   "metadata": {},
   "source": [
    "# *LOOP*"
   ]
  },
  {
   "cell_type": "code",
   "execution_count": 88,
   "id": "128cffd3",
   "metadata": {},
   "outputs": [
    {
     "name": "stdout",
     "output_type": "stream",
     "text": [
      "sanj\n",
      "bhar\n",
      "jovic\n",
      "char\n"
     ]
    }
   ],
   "source": [
    "list=['sanj','bhar','jovic','char']\n",
    "for i in list:\n",
    "    print(i)"
   ]
  },
  {
   "cell_type": "code",
   "execution_count": 89,
   "id": "c56a4a2f",
   "metadata": {},
   "outputs": [
    {
     "name": "stdout",
     "output_type": "stream",
     "text": [
      "0\n",
      "1\n",
      "2\n",
      "3\n",
      "4\n",
      "5\n",
      "6\n",
      "7\n",
      "8\n",
      "9\n",
      "10\n",
      "11\n",
      "12\n",
      "13\n",
      "14\n",
      "15\n",
      "16\n",
      "17\n",
      "18\n",
      "19\n",
      "20\n",
      "21\n",
      "22\n",
      "23\n",
      "24\n",
      "25\n",
      "26\n",
      "27\n",
      "28\n"
     ]
    }
   ],
   "source": [
    "for i in range(29):\n",
    "    print(i)"
   ]
  },
  {
   "cell_type": "code",
   "execution_count": 90,
   "id": "3c3d3293",
   "metadata": {},
   "outputs": [
    {
     "data": {
      "text/plain": [
       "['sanj', 'bhar', 'jovic', 'char']"
      ]
     },
     "execution_count": 90,
     "metadata": {},
     "output_type": "execute_result"
    }
   ],
   "source": [
    "list"
   ]
  },
  {
   "cell_type": "code",
   "execution_count": 94,
   "id": "735e0a39",
   "metadata": {},
   "outputs": [
    {
     "name": "stdout",
     "output_type": "stream",
     "text": [
      "0\n",
      "1\n",
      "2\n",
      "3\n",
      "4\n",
      "5\n",
      "6\n",
      "7\n"
     ]
    }
   ],
   "source": [
    "#while loop\n",
    "i=0\n",
    "while i<=7:\n",
    "    print(i)\n",
    "    i+=1"
   ]
  },
  {
   "cell_type": "code",
   "execution_count": 95,
   "id": "1c5ee8bb",
   "metadata": {},
   "outputs": [
    {
     "name": "stdout",
     "output_type": "stream",
     "text": [
      "0\n",
      "5\n",
      "10\n",
      "15\n",
      "20\n",
      "25\n",
      "30\n",
      "35\n",
      "40\n",
      "45\n",
      "50\n",
      "55\n",
      "60\n",
      "65\n",
      "70\n",
      "75\n",
      "80\n",
      "85\n",
      "90\n",
      "95\n",
      "100\n"
     ]
    }
   ],
   "source": [
    "i=0\n",
    "while i<=100:\n",
    "    print(i)\n",
    "    i+=5"
   ]
  },
  {
   "cell_type": "markdown",
   "id": "836993f1",
   "metadata": {},
   "source": [
    "# *FUNCTION*"
   ]
  },
  {
   "cell_type": "code",
   "execution_count": 96,
   "id": "ba2e9610",
   "metadata": {},
   "outputs": [],
   "source": [
    "def sanj_world():\n",
    "    print('Sending you a lots of love <3')\n",
    "    print('XOXO')"
   ]
  },
  {
   "cell_type": "code",
   "execution_count": 98,
   "id": "01490656",
   "metadata": {},
   "outputs": [
    {
     "name": "stdout",
     "output_type": "stream",
     "text": [
      "Sending you a lots of love <3\n",
      "XOXO\n"
     ]
    }
   ],
   "source": [
    "sanj_world()"
   ]
  },
  {
   "cell_type": "code",
   "execution_count": 110,
   "id": "8814a9c3",
   "metadata": {},
   "outputs": [],
   "source": [
    "def f1():\n",
    "    a=291\n",
    "    b=7\n",
    "    c=a%b\n",
    "    return c"
   ]
  },
  {
   "cell_type": "code",
   "execution_count": 111,
   "id": "e98d7cd1",
   "metadata": {},
   "outputs": [
    {
     "data": {
      "text/plain": [
       "4"
      ]
     },
     "execution_count": 111,
     "metadata": {},
     "output_type": "execute_result"
    }
   ],
   "source": [
    "f1()"
   ]
  },
  {
   "cell_type": "code",
   "execution_count": 112,
   "id": "1c475e90",
   "metadata": {},
   "outputs": [],
   "source": [
    "f2=f1()"
   ]
  },
  {
   "cell_type": "code",
   "execution_count": 113,
   "id": "ae686d4e",
   "metadata": {},
   "outputs": [
    {
     "data": {
      "text/plain": [
       "4"
      ]
     },
     "execution_count": 113,
     "metadata": {},
     "output_type": "execute_result"
    }
   ],
   "source": [
    "f2"
   ]
  },
  {
   "cell_type": "code",
   "execution_count": 114,
   "id": "78ec4c74",
   "metadata": {},
   "outputs": [
    {
     "data": {
      "text/plain": [
       "['ArithmeticError',\n",
       " 'AssertionError',\n",
       " 'AttributeError',\n",
       " 'BaseException',\n",
       " 'BlockingIOError',\n",
       " 'BrokenPipeError',\n",
       " 'BufferError',\n",
       " 'BytesWarning',\n",
       " 'ChildProcessError',\n",
       " 'ConnectionAbortedError',\n",
       " 'ConnectionError',\n",
       " 'ConnectionRefusedError',\n",
       " 'ConnectionResetError',\n",
       " 'DeprecationWarning',\n",
       " 'EOFError',\n",
       " 'Ellipsis',\n",
       " 'EnvironmentError',\n",
       " 'Exception',\n",
       " 'False',\n",
       " 'FileExistsError',\n",
       " 'FileNotFoundError',\n",
       " 'FloatingPointError',\n",
       " 'FutureWarning',\n",
       " 'GeneratorExit',\n",
       " 'IOError',\n",
       " 'ImportError',\n",
       " 'ImportWarning',\n",
       " 'IndentationError',\n",
       " 'IndexError',\n",
       " 'InterruptedError',\n",
       " 'IsADirectoryError',\n",
       " 'KeyError',\n",
       " 'KeyboardInterrupt',\n",
       " 'LookupError',\n",
       " 'MemoryError',\n",
       " 'ModuleNotFoundError',\n",
       " 'NameError',\n",
       " 'None',\n",
       " 'NotADirectoryError',\n",
       " 'NotImplemented',\n",
       " 'NotImplementedError',\n",
       " 'OSError',\n",
       " 'OverflowError',\n",
       " 'PendingDeprecationWarning',\n",
       " 'PermissionError',\n",
       " 'ProcessLookupError',\n",
       " 'RecursionError',\n",
       " 'ReferenceError',\n",
       " 'ResourceWarning',\n",
       " 'RuntimeError',\n",
       " 'RuntimeWarning',\n",
       " 'StopAsyncIteration',\n",
       " 'StopIteration',\n",
       " 'SyntaxError',\n",
       " 'SyntaxWarning',\n",
       " 'SystemError',\n",
       " 'SystemExit',\n",
       " 'TabError',\n",
       " 'TimeoutError',\n",
       " 'True',\n",
       " 'TypeError',\n",
       " 'UnboundLocalError',\n",
       " 'UnicodeDecodeError',\n",
       " 'UnicodeEncodeError',\n",
       " 'UnicodeError',\n",
       " 'UnicodeTranslateError',\n",
       " 'UnicodeWarning',\n",
       " 'UserWarning',\n",
       " 'ValueError',\n",
       " 'Warning',\n",
       " 'WindowsError',\n",
       " 'ZeroDivisionError',\n",
       " '__IPYTHON__',\n",
       " '__build_class__',\n",
       " '__debug__',\n",
       " '__doc__',\n",
       " '__import__',\n",
       " '__loader__',\n",
       " '__name__',\n",
       " '__package__',\n",
       " '__spec__',\n",
       " 'abs',\n",
       " 'all',\n",
       " 'any',\n",
       " 'ascii',\n",
       " 'bin',\n",
       " 'bool',\n",
       " 'breakpoint',\n",
       " 'bytearray',\n",
       " 'bytes',\n",
       " 'callable',\n",
       " 'chr',\n",
       " 'classmethod',\n",
       " 'compile',\n",
       " 'complex',\n",
       " 'copyright',\n",
       " 'credits',\n",
       " 'delattr',\n",
       " 'dict',\n",
       " 'dir',\n",
       " 'display',\n",
       " 'divmod',\n",
       " 'enumerate',\n",
       " 'eval',\n",
       " 'exec',\n",
       " 'execfile',\n",
       " 'filter',\n",
       " 'float',\n",
       " 'format',\n",
       " 'frozenset',\n",
       " 'get_ipython',\n",
       " 'getattr',\n",
       " 'globals',\n",
       " 'hasattr',\n",
       " 'hash',\n",
       " 'help',\n",
       " 'hex',\n",
       " 'id',\n",
       " 'input',\n",
       " 'int',\n",
       " 'isinstance',\n",
       " 'issubclass',\n",
       " 'iter',\n",
       " 'len',\n",
       " 'license',\n",
       " 'list',\n",
       " 'locals',\n",
       " 'map',\n",
       " 'max',\n",
       " 'memoryview',\n",
       " 'min',\n",
       " 'next',\n",
       " 'object',\n",
       " 'oct',\n",
       " 'open',\n",
       " 'ord',\n",
       " 'pow',\n",
       " 'print',\n",
       " 'property',\n",
       " 'range',\n",
       " 'repr',\n",
       " 'reversed',\n",
       " 'round',\n",
       " 'runfile',\n",
       " 'set',\n",
       " 'setattr',\n",
       " 'slice',\n",
       " 'sorted',\n",
       " 'staticmethod',\n",
       " 'str',\n",
       " 'sum',\n",
       " 'super',\n",
       " 'tuple',\n",
       " 'type',\n",
       " 'vars',\n",
       " 'zip']"
      ]
     },
     "execution_count": 114,
     "metadata": {},
     "output_type": "execute_result"
    }
   ],
   "source": [
    "import builtins\n",
    "dir(builtins)"
   ]
  },
  {
   "cell_type": "markdown",
   "id": "e1038a39",
   "metadata": {},
   "source": [
    "# *LAMBDA function*"
   ]
  },
  {
   "cell_type": "code",
   "execution_count": 117,
   "id": "bff09ec7",
   "metadata": {},
   "outputs": [
    {
     "data": {
      "text/plain": [
       "30"
      ]
     },
     "execution_count": 117,
     "metadata": {},
     "output_type": "execute_result"
    }
   ],
   "source": [
    "x=lambda a:a+10\n",
    "x(20)"
   ]
  }
 ],
 "metadata": {
  "kernelspec": {
   "display_name": "Python 3 (ipykernel)",
   "language": "python",
   "name": "python3"
  },
  "language_info": {
   "codemirror_mode": {
    "name": "ipython",
    "version": 3
   },
   "file_extension": ".py",
   "mimetype": "text/x-python",
   "name": "python",
   "nbconvert_exporter": "python",
   "pygments_lexer": "ipython3",
   "version": "3.9.12"
  }
 },
 "nbformat": 4,
 "nbformat_minor": 5
}
